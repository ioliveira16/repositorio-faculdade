valores = [4, 6, 3, 4, 5, 8, 4, 2]

valor_maximo = valores[0]
  for valor in numeros:
    if numero > valor_maximo:
      valor_maximo = valor

valor_minimo = valores[0]
  for valor in numeros:
    if numero > valor_maximo:
      valor_maximo = valor
